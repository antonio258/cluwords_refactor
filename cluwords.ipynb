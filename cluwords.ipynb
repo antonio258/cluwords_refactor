{
 "cells": [
  {
   "cell_type": "code",
   "execution_count": 8,
   "metadata": {
    "collapsed": true,
    "pycharm": {
     "name": "#%%\n"
    }
   },
   "outputs": [],
   "source": [
    "import os\n",
    "import pandas as pd\n",
    "from tm_module import cluWords"
   ]
  },
  {
   "cell_type": "code",
   "execution_count": 4,
   "outputs": [],
   "source": [
    "df = pd.read_parquet('./2022-08-09.parquet')[['pp_text', 'id']].head(1000)\n",
    "cluwords = cluWords(data=df, pp_column='pp_text', id_column='id')"
   ],
   "metadata": {
    "collapsed": false,
    "pycharm": {
     "name": "#%%\n"
    }
   }
  },
  {
   "cell_type": "code",
   "execution_count": 5,
   "outputs": [
    {
     "name": "stdout",
     "output_type": "stream",
     "text": [
      "building embedding...\n",
      "Number of cluwords 2652\n",
      "creating cluwords...\n",
      "(2652, 100)\n",
      "getting cosine similarity...\n",
      "filtering cluwords...\n",
      "calculating cluwords tf...\n",
      "tf shape (1000, 2652)\n",
      "(1000, 2652)\n",
      "calculating cluwords idf\n",
      "Divide hyp_aux by itself\n",
      "Dot tf and bin hyp_aux\n",
      "Divide _dot and _dot_bin\n",
      "(1000, 2652)\n",
      "Sum\n",
      "log\n",
      "time for create cluwords: 0.46174559990564984\n"
     ]
    }
   ],
   "source": [
    "cluwords.build_cluwords(\n",
    "    embedding_file='/mnt/HD/embeddings/embedding_blog_tweet_w_5_e_5.vec',\n",
    "    embedding_type=False,\n",
    "    k_neighbors=100,\n",
    "    n_threads=12,\n",
    "    threshold=0.4\n",
    ")"
   ],
   "metadata": {
    "collapsed": false,
    "pycharm": {
     "name": "#%%\n"
    }
   }
  },
  {
   "cell_type": "code",
   "execution_count": 9,
   "outputs": [
    {
     "name": "stdout",
     "output_type": "stream",
     "text": [
      "\n",
      "Fitting the NMF model (Frobenius norm) with tf-idf features, n_samples=1000 and n_features=2652...\n",
      "time for NMF: 0.04170777002970378\n",
      "dominant topic...\n",
      "(1000, 2652) 1000\n",
      "save topics...\n",
      "time for save topics [and dominant topic]: 0.006440635522206624\n"
     ]
    }
   ],
   "source": [
    "os.makedirs('../exemplo', exist_ok=True)\n",
    "cluwords.get_topics(\n",
    "    topics_path='../exemplo/',\n",
    "    n_topics=10,\n",
    "    n_top_words=[10],\n",
    "    n_total_words=101,\n",
    "    dominante_topic=True\n",
    ")"
   ],
   "metadata": {
    "collapsed": false,
    "pycharm": {
     "name": "#%%\n"
    }
   }
  },
  {
   "cell_type": "code",
   "execution_count": null,
   "outputs": [],
   "source": [],
   "metadata": {
    "collapsed": false,
    "pycharm": {
     "name": "#%%\n"
    }
   }
  }
 ],
 "metadata": {
  "kernelspec": {
   "display_name": "Python 3",
   "language": "python",
   "name": "python3"
  },
  "language_info": {
   "codemirror_mode": {
    "name": "ipython",
    "version": 2
   },
   "file_extension": ".py",
   "mimetype": "text/x-python",
   "name": "python",
   "nbconvert_exporter": "python",
   "pygments_lexer": "ipython2",
   "version": "2.7.6"
  }
 },
 "nbformat": 4,
 "nbformat_minor": 0
}